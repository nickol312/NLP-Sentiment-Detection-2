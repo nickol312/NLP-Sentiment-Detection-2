{
 "cells": [
  {
   "cell_type": "code",
   "execution_count": 1,
   "id": "04026299",
   "metadata": {},
   "outputs": [],
   "source": [
    "import tensorflow as tf\n",
    "\n",
    "from tensorflow.keras.preprocessing.text import Tokenizer\n",
    "from tensorflow.keras.preprocessing.sequence import pad_sequences"
   ]
  },
  {
   "cell_type": "code",
   "execution_count": 2,
   "id": "92b72e3e",
   "metadata": {},
   "outputs": [],
   "source": [
    "import numpy as np \n",
    "import pandas as pd"
   ]
  },
  {
   "cell_type": "code",
   "execution_count": 3,
   "id": "ca81317f",
   "metadata": {},
   "outputs": [],
   "source": [
    "import pickle"
   ]
  },
  {
   "cell_type": "code",
   "execution_count": 4,
   "id": "2c2f248b",
   "metadata": {},
   "outputs": [],
   "source": [
    "with open('tokenizer.pickle', 'rb') as handle:\n",
    "    tokenizer = pickle.load(handle)\n",
    "vocab_size = 10000\n",
    "embedding_dim = 16\n",
    "max_length = 100\n",
    "trunc_type='post'\n",
    "padding_type='post'\n",
    "oov_tok = \"<OOV>\"\n"
   ]
  },
  {
   "cell_type": "code",
   "execution_count": null,
   "id": "a893cdfd",
   "metadata": {},
   "outputs": [],
   "source": []
  },
  {
   "cell_type": "code",
   "execution_count": 5,
   "id": "94c676ed",
   "metadata": {},
   "outputs": [],
   "source": [
    "from keras.models import load_model\n",
    "model = load_model(r'Model/my_model.h5')"
   ]
  },
  {
   "cell_type": "code",
   "execution_count": 6,
   "id": "450dbae2",
   "metadata": {},
   "outputs": [],
   "source": [
    "import warnings\n",
    "warnings.filterwarnings('ignore')\n",
    "\n",
    "import ipywidgets as widgets\n",
    "from IPython.display import display, clear_output\n",
    "\n",
    "from __future__ import unicode_literals, print_function\n",
    "from prompt_toolkit import print_formatted_text, HTML"
   ]
  },
  {
   "cell_type": "code",
   "execution_count": 7,
   "id": "8e803716",
   "metadata": {},
   "outputs": [
    {
     "data": {
      "application/vnd.jupyter.widget-view+json": {
       "model_id": "0f1829b0262c4d6f8392159d79282191",
       "version_major": 2,
       "version_minor": 0
      },
      "text/plain": [
       "HBox(children=(VBox(children=(HTML(value='<h1>NLP Sentiment Detection</h1>'), HTML(value='<h2>Sentece</h2>'), …"
      ]
     },
     "metadata": {},
     "output_type": "display_data"
    }
   ],
   "source": [
    "# sentence\n",
    "\n",
    "sentence_process = widgets.Text(placeholder='Your sentence here')\n",
    "\n",
    "\n",
    "# button \n",
    "\n",
    "button_send = widgets.Button(\n",
    "                description='Process',\n",
    "                tooltip='Send',\n",
    "                style={'description_width': 'initial'}\n",
    "            )\n",
    "\n",
    "output = widgets.Output()\n",
    "\n",
    "def on_button_clicked1(event):\n",
    "    with output:\n",
    "        clear_output()\n",
    "        sente = sentence_process.value\n",
    "        sentence = [sente]\n",
    "        sequences = tokenizer.texts_to_sequences(sentence)\n",
    "        padded = pad_sequences(sequences, maxlen=max_length, padding=padding_type, truncating=trunc_type)\n",
    "\n",
    "        x = 0\n",
    "        size = len(padded)\n",
    "\n",
    "        while True:\n",
    "          y = model.predict(padded)[x]\n",
    "          z = (sentence)[x]\n",
    "          x = x+1 \n",
    "          \n",
    "          if(y>0.5):\n",
    "            print(\"\")\n",
    "            print(z)\n",
    "            print('\\033[1m' + 'Positive' + '\\033[0m')\n",
    "          else:\n",
    "            print(\"\")\n",
    "            print(z)\n",
    "            print('\\033[1m' + 'Negaive' + '\\033[0m')\n",
    "            \n",
    "          if(x==size):\n",
    "            break\n",
    "\n",
    "button_send.on_click(on_button_clicked1)\n",
    "\n",
    "vbox_result = widgets.VBox([button_send, output])\n",
    "# stacked right hand side\n",
    "\n",
    "text_0 = widgets.HTML(value=\"<h1>NLP Sentiment Detection</h1>\")\n",
    "text_1 = widgets.HTML(value=\"<h2>Sentece</h2>\")\n",
    "\n",
    "vbox_text = widgets.VBox([text_0, text_1, sentence_process, vbox_result])\n",
    "page = widgets.HBox([vbox_text])\n",
    "display(page)"
   ]
  },
  {
   "cell_type": "code",
   "execution_count": 11,
   "id": "df5af56a",
   "metadata": {},
   "outputs": [],
   "source": [
    "!pip freeze > requirements.txt"
   ]
  },
  {
   "cell_type": "code",
   "execution_count": null,
   "id": "c9c008af",
   "metadata": {},
   "outputs": [],
   "source": []
  }
 ],
 "metadata": {
  "kernelspec": {
   "display_name": "Python 3 (ipykernel)",
   "language": "python",
   "name": "python3"
  },
  "language_info": {
   "codemirror_mode": {
    "name": "ipython",
    "version": 3
   },
   "file_extension": ".py",
   "mimetype": "text/x-python",
   "name": "python",
   "nbconvert_exporter": "python",
   "pygments_lexer": "ipython3",
   "version": "3.10.4"
  }
 },
 "nbformat": 4,
 "nbformat_minor": 5
}
